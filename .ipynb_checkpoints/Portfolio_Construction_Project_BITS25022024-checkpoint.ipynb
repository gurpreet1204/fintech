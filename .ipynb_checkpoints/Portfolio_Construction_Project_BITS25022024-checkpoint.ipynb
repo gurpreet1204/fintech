{
 "cells": [
  {
   "cell_type": "code",
   "execution_count": 1,
   "metadata": {
    "colab": {
     "base_uri": "https://localhost:8080/"
    },
    "id": "6V1p-ha3yYe1",
    "outputId": "31f88f04-7d94-4ce8-e302-64bd45e21e17"
   },
   "outputs": [
    {
     "ename": "ModuleNotFoundError",
     "evalue": "No module named 'yfinance'",
     "output_type": "error",
     "traceback": [
      "\u001b[1;31m---------------------------------------------------------------------------\u001b[0m",
      "\u001b[1;31mModuleNotFoundError\u001b[0m                       Traceback (most recent call last)",
      "Cell \u001b[1;32mIn[1], line 7\u001b[0m\n\u001b[0;32m      5\u001b[0m \u001b[38;5;28;01mimport\u001b[39;00m \u001b[38;5;21;01mmatplotlib\u001b[39;00m\u001b[38;5;21;01m.\u001b[39;00m\u001b[38;5;21;01mpyplot\u001b[39;00m \u001b[38;5;28;01mas\u001b[39;00m \u001b[38;5;21;01mplt\u001b[39;00m  \u001b[38;5;66;03m## matplotlib is used for creating charts/graphics\u001b[39;00m\n\u001b[0;32m      6\u001b[0m \u001b[38;5;28;01mimport\u001b[39;00m \u001b[38;5;21;01mpandas_datareader\u001b[39;00m\u001b[38;5;21;01m.\u001b[39;00m\u001b[38;5;21;01mdata\u001b[39;00m \u001b[38;5;28;01mas\u001b[39;00m \u001b[38;5;21;01mweb\u001b[39;00m  \u001b[38;5;66;03m## used for extracting data from web sources\u001b[39;00m\n\u001b[1;32m----> 7\u001b[0m \u001b[38;5;28;01mimport\u001b[39;00m \u001b[38;5;21;01myfinance\u001b[39;00m \u001b[38;5;28;01mas\u001b[39;00m \u001b[38;5;21;01myf\u001b[39;00m    \u001b[38;5;66;03m## is used for extracting data from yahoo finance\u001b[39;00m\n\u001b[0;32m      8\u001b[0m yf\u001b[38;5;241m.\u001b[39mpdr_override()   \u001b[38;5;66;03m## bugfix for conflict between pandas_datareader & yfinance\u001b[39;00m\n\u001b[0;32m      9\u001b[0m \u001b[38;5;28;01mfrom\u001b[39;00m \u001b[38;5;21;01mdatetime\u001b[39;00m \u001b[38;5;28;01mimport\u001b[39;00m datetime\n",
      "\u001b[1;31mModuleNotFoundError\u001b[0m: No module named 'yfinance'"
     ]
    }
   ],
   "source": [
    "### Activate the packages required\n",
    "## in case any module is not installed, run this line --> pip install pandas\n",
    "import pandas as pd   ## pandas is used for working around data\n",
    "import numpy as np  ## numpy is used for numerical/statistical functions\n",
    "import matplotlib.pyplot as plt  ## matplotlib is used for creating charts/graphics\n",
    "import pandas_datareader.data as web  ## used for extracting data from web sources\n",
    "import yfinance as yf    ## is used for extracting data from yahoo finance\n",
    "yf.pdr_override()   ## bugfix for conflict between pandas_datareader & yfinance\n",
    "from datetime import datetime   ## is used to convert the date & time format of the data"
   ]
  },
  {
   "cell_type": "code",
   "execution_count": 2,
   "metadata": {
    "id": "Knr3qXQH05ge"
   },
   "outputs": [],
   "source": [
    "### User Inputs\n",
    "startdate = datetime(2022, 1, 1)   ## from what date the price data to be downloaded\n",
    "enddate = datetime(2023, 12, 31)   ## till what date the price data to be downloaded\n",
    "tickers = ['APARINDS.NS', 'OIL.NS', 'APOLLOTYRE.NS', 'TATACHEM.NS', 'NH.NS']   ## ticker symbols of the stocks using which the portfolio needs to be built\n",
    "number_of_portfolios = 5000  ## I want create x number of randomly weighted portfolios from which the best need to be chosen\n",
    "risk_free = 0.071  ## risk-free rate"
   ]
  },
  {
   "cell_type": "code",
   "execution_count": 3,
   "metadata": {
    "id": "eAk-yVLP2u6i"
   },
   "outputs": [],
   "source": [
    "### Create an empty table spcace for storing the data\n",
    "returns = pd.DataFrame()"
   ]
  },
  {
   "cell_type": "code",
   "execution_count": 4,
   "metadata": {
    "colab": {
     "base_uri": "https://localhost:8080/"
    },
    "id": "nyEh6u0R3xVn",
    "outputId": "0774c479-dffc-4679-a263-2f0b732b143f"
   },
   "outputs": [
    {
     "name": "stderr",
     "output_type": "stream",
     "text": [
      "[*********************100%%**********************]  1 of 1 completed\n",
      "[*********************100%%**********************]  1 of 1 completed\n",
      "[*********************100%%**********************]  1 of 1 completed\n",
      "[*********************100%%**********************]  1 of 1 completed\n",
      "[*********************100%%**********************]  1 of 1 completed\n"
     ]
    }
   ],
   "source": [
    "### Create a lopp function that downloads each stock's price data & compute returns\n",
    "\n",
    "for ticker in tickers:\n",
    "  data = web.get_data_yahoo(ticker, start = startdate, end = enddate)   ## download from yfinance\n",
    "  data = pd.DataFrame(data)   ## store it in a table form\n",
    "  data[ticker] = data['Adj Close'].pct_change()  ## computing the returns for each day\n",
    "  if returns.empty:\n",
    "    returns = data[[ticker]]\n",
    "  else:\n",
    "    returns = returns.join(data[[ticker]], how = 'outer')   ## adds a new column next to existing and store the return data"
   ]
  },
  {
   "cell_type": "code",
   "execution_count": 5,
   "metadata": {
    "colab": {
     "base_uri": "https://localhost:8080/",
     "height": 237
    },
    "id": "aVLkiVZn8StJ",
    "outputId": "189c92ab-1aa1-4ff0-a43f-e8abdfddafdd"
   },
   "outputs": [
    {
     "data": {
      "application/vnd.google.colaboratory.intrinsic+json": {
       "summary": "{\n  \"name\": \"returns\",\n  \"rows\": 492,\n  \"fields\": [\n    {\n      \"column\": \"APARINDS.NS\",\n      \"properties\": {\n        \"dtype\": \"number\",\n        \"std\": 0.033563775088881566,\n        \"min\": -0.1484251319088039,\n        \"max\": 0.19997164049631766,\n        \"num_unique_values\": 492,\n        \"samples\": [\n          -0.0030514939132870733,\n          -0.014669702796865525,\n          0.1524039904878649\n        ],\n        \"semantic_type\": \"\",\n        \"description\": \"\"\n      }\n    },\n    {\n      \"column\": \"OIL.NS\",\n      \"properties\": {\n        \"dtype\": \"number\",\n        \"std\": 0.024403707546181562,\n        \"min\": -0.14970162858897362,\n        \"max\": 0.1113769449201345,\n        \"num_unique_values\": 491,\n        \"samples\": [\n          -0.004640469035863126,\n          -0.08946696848629854,\n          0.0027122166968518435\n        ],\n        \"semantic_type\": \"\",\n        \"description\": \"\"\n      }\n    },\n    {\n      \"column\": \"APOLLOTYRE.NS\",\n      \"properties\": {\n        \"dtype\": \"number\",\n        \"std\": 0.01990986057054874,\n        \"min\": -0.11260255876609082,\n        \"max\": 0.07011004262317799,\n        \"num_unique_values\": 491,\n        \"samples\": [\n          0.01759911078177101,\n          0.02899311728516052,\n          0.021208037305998406\n        ],\n        \"semantic_type\": \"\",\n        \"description\": \"\"\n      }\n    },\n    {\n      \"column\": \"TATACHEM.NS\",\n      \"properties\": {\n        \"dtype\": \"number\",\n        \"std\": 0.01920551580195023,\n        \"min\": -0.09084597397136285,\n        \"max\": 0.12241379646104433,\n        \"num_unique_values\": 492,\n        \"samples\": [\n          -0.020013574192541017,\n          0.002467345416598432,\n          0.02408852101671899\n        ],\n        \"semantic_type\": \"\",\n        \"description\": \"\"\n      }\n    },\n    {\n      \"column\": \"NH.NS\",\n      \"properties\": {\n        \"dtype\": \"number\",\n        \"std\": 0.016968618844852543,\n        \"min\": -0.04412768590896965,\n        \"max\": 0.07527635070738614,\n        \"num_unique_values\": 492,\n        \"samples\": [\n          -0.003203313678922237,\n          -0.0007083661505659089,\n          0.00945745702924139\n        ],\n        \"semantic_type\": \"\",\n        \"description\": \"\"\n      }\n    }\n  ]\n}",
       "type": "dataframe",
       "variable_name": "returns"
      },
      "text/html": [
       "\n",
       "  <div id=\"df-e431a5a4-2557-406e-ba0c-87106b0fb8d2\" class=\"colab-df-container\">\n",
       "    <div>\n",
       "<style scoped>\n",
       "    .dataframe tbody tr th:only-of-type {\n",
       "        vertical-align: middle;\n",
       "    }\n",
       "\n",
       "    .dataframe tbody tr th {\n",
       "        vertical-align: top;\n",
       "    }\n",
       "\n",
       "    .dataframe thead th {\n",
       "        text-align: right;\n",
       "    }\n",
       "</style>\n",
       "<table border=\"1\" class=\"dataframe\">\n",
       "  <thead>\n",
       "    <tr style=\"text-align: right;\">\n",
       "      <th></th>\n",
       "      <th>APARINDS.NS</th>\n",
       "      <th>OIL.NS</th>\n",
       "      <th>APOLLOTYRE.NS</th>\n",
       "      <th>TATACHEM.NS</th>\n",
       "      <th>NH.NS</th>\n",
       "    </tr>\n",
       "    <tr>\n",
       "      <th>Date</th>\n",
       "      <th></th>\n",
       "      <th></th>\n",
       "      <th></th>\n",
       "      <th></th>\n",
       "      <th></th>\n",
       "    </tr>\n",
       "  </thead>\n",
       "  <tbody>\n",
       "    <tr>\n",
       "      <th>2022-01-04</th>\n",
       "      <td>-0.000785</td>\n",
       "      <td>-0.009306</td>\n",
       "      <td>0.021277</td>\n",
       "      <td>-0.005524</td>\n",
       "      <td>-0.008193</td>\n",
       "    </tr>\n",
       "    <tr>\n",
       "      <th>2022-01-05</th>\n",
       "      <td>-0.011448</td>\n",
       "      <td>-0.010155</td>\n",
       "      <td>0.008422</td>\n",
       "      <td>0.006710</td>\n",
       "      <td>0.028639</td>\n",
       "    </tr>\n",
       "    <tr>\n",
       "      <th>2022-01-06</th>\n",
       "      <td>0.024419</td>\n",
       "      <td>0.014876</td>\n",
       "      <td>0.004396</td>\n",
       "      <td>-0.012074</td>\n",
       "      <td>-0.026312</td>\n",
       "    </tr>\n",
       "    <tr>\n",
       "      <th>2022-01-07</th>\n",
       "      <td>0.008140</td>\n",
       "      <td>0.081880</td>\n",
       "      <td>0.019694</td>\n",
       "      <td>0.025494</td>\n",
       "      <td>0.016496</td>\n",
       "    </tr>\n",
       "    <tr>\n",
       "      <th>2022-01-10</th>\n",
       "      <td>-0.000384</td>\n",
       "      <td>0.004438</td>\n",
       "      <td>-0.002146</td>\n",
       "      <td>0.012996</td>\n",
       "      <td>0.012751</td>\n",
       "    </tr>\n",
       "  </tbody>\n",
       "</table>\n",
       "</div>\n",
       "    <div class=\"colab-df-buttons\">\n",
       "\n",
       "  <div class=\"colab-df-container\">\n",
       "    <button class=\"colab-df-convert\" onclick=\"convertToInteractive('df-e431a5a4-2557-406e-ba0c-87106b0fb8d2')\"\n",
       "            title=\"Convert this dataframe to an interactive table.\"\n",
       "            style=\"display:none;\">\n",
       "\n",
       "  <svg xmlns=\"http://www.w3.org/2000/svg\" height=\"24px\" viewBox=\"0 -960 960 960\">\n",
       "    <path d=\"M120-120v-720h720v720H120Zm60-500h600v-160H180v160Zm220 220h160v-160H400v160Zm0 220h160v-160H400v160ZM180-400h160v-160H180v160Zm440 0h160v-160H620v160ZM180-180h160v-160H180v160Zm440 0h160v-160H620v160Z\"/>\n",
       "  </svg>\n",
       "    </button>\n",
       "\n",
       "  <style>\n",
       "    .colab-df-container {\n",
       "      display:flex;\n",
       "      gap: 12px;\n",
       "    }\n",
       "\n",
       "    .colab-df-convert {\n",
       "      background-color: #E8F0FE;\n",
       "      border: none;\n",
       "      border-radius: 50%;\n",
       "      cursor: pointer;\n",
       "      display: none;\n",
       "      fill: #1967D2;\n",
       "      height: 32px;\n",
       "      padding: 0 0 0 0;\n",
       "      width: 32px;\n",
       "    }\n",
       "\n",
       "    .colab-df-convert:hover {\n",
       "      background-color: #E2EBFA;\n",
       "      box-shadow: 0px 1px 2px rgba(60, 64, 67, 0.3), 0px 1px 3px 1px rgba(60, 64, 67, 0.15);\n",
       "      fill: #174EA6;\n",
       "    }\n",
       "\n",
       "    .colab-df-buttons div {\n",
       "      margin-bottom: 4px;\n",
       "    }\n",
       "\n",
       "    [theme=dark] .colab-df-convert {\n",
       "      background-color: #3B4455;\n",
       "      fill: #D2E3FC;\n",
       "    }\n",
       "\n",
       "    [theme=dark] .colab-df-convert:hover {\n",
       "      background-color: #434B5C;\n",
       "      box-shadow: 0px 1px 3px 1px rgba(0, 0, 0, 0.15);\n",
       "      filter: drop-shadow(0px 1px 2px rgba(0, 0, 0, 0.3));\n",
       "      fill: #FFFFFF;\n",
       "    }\n",
       "  </style>\n",
       "\n",
       "    <script>\n",
       "      const buttonEl =\n",
       "        document.querySelector('#df-e431a5a4-2557-406e-ba0c-87106b0fb8d2 button.colab-df-convert');\n",
       "      buttonEl.style.display =\n",
       "        google.colab.kernel.accessAllowed ? 'block' : 'none';\n",
       "\n",
       "      async function convertToInteractive(key) {\n",
       "        const element = document.querySelector('#df-e431a5a4-2557-406e-ba0c-87106b0fb8d2');\n",
       "        const dataTable =\n",
       "          await google.colab.kernel.invokeFunction('convertToInteractive',\n",
       "                                                    [key], {});\n",
       "        if (!dataTable) return;\n",
       "\n",
       "        const docLinkHtml = 'Like what you see? Visit the ' +\n",
       "          '<a target=\"_blank\" href=https://colab.research.google.com/notebooks/data_table.ipynb>data table notebook</a>'\n",
       "          + ' to learn more about interactive tables.';\n",
       "        element.innerHTML = '';\n",
       "        dataTable['output_type'] = 'display_data';\n",
       "        await google.colab.output.renderOutput(dataTable, element);\n",
       "        const docLink = document.createElement('div');\n",
       "        docLink.innerHTML = docLinkHtml;\n",
       "        element.appendChild(docLink);\n",
       "      }\n",
       "    </script>\n",
       "  </div>\n",
       "\n",
       "\n",
       "<div id=\"df-3c9b7df7-2aea-432c-a78d-43a030d449f6\">\n",
       "  <button class=\"colab-df-quickchart\" onclick=\"quickchart('df-3c9b7df7-2aea-432c-a78d-43a030d449f6')\"\n",
       "            title=\"Suggest charts\"\n",
       "            style=\"display:none;\">\n",
       "\n",
       "<svg xmlns=\"http://www.w3.org/2000/svg\" height=\"24px\"viewBox=\"0 0 24 24\"\n",
       "     width=\"24px\">\n",
       "    <g>\n",
       "        <path d=\"M19 3H5c-1.1 0-2 .9-2 2v14c0 1.1.9 2 2 2h14c1.1 0 2-.9 2-2V5c0-1.1-.9-2-2-2zM9 17H7v-7h2v7zm4 0h-2V7h2v10zm4 0h-2v-4h2v4z\"/>\n",
       "    </g>\n",
       "</svg>\n",
       "  </button>\n",
       "\n",
       "<style>\n",
       "  .colab-df-quickchart {\n",
       "      --bg-color: #E8F0FE;\n",
       "      --fill-color: #1967D2;\n",
       "      --hover-bg-color: #E2EBFA;\n",
       "      --hover-fill-color: #174EA6;\n",
       "      --disabled-fill-color: #AAA;\n",
       "      --disabled-bg-color: #DDD;\n",
       "  }\n",
       "\n",
       "  [theme=dark] .colab-df-quickchart {\n",
       "      --bg-color: #3B4455;\n",
       "      --fill-color: #D2E3FC;\n",
       "      --hover-bg-color: #434B5C;\n",
       "      --hover-fill-color: #FFFFFF;\n",
       "      --disabled-bg-color: #3B4455;\n",
       "      --disabled-fill-color: #666;\n",
       "  }\n",
       "\n",
       "  .colab-df-quickchart {\n",
       "    background-color: var(--bg-color);\n",
       "    border: none;\n",
       "    border-radius: 50%;\n",
       "    cursor: pointer;\n",
       "    display: none;\n",
       "    fill: var(--fill-color);\n",
       "    height: 32px;\n",
       "    padding: 0;\n",
       "    width: 32px;\n",
       "  }\n",
       "\n",
       "  .colab-df-quickchart:hover {\n",
       "    background-color: var(--hover-bg-color);\n",
       "    box-shadow: 0 1px 2px rgba(60, 64, 67, 0.3), 0 1px 3px 1px rgba(60, 64, 67, 0.15);\n",
       "    fill: var(--button-hover-fill-color);\n",
       "  }\n",
       "\n",
       "  .colab-df-quickchart-complete:disabled,\n",
       "  .colab-df-quickchart-complete:disabled:hover {\n",
       "    background-color: var(--disabled-bg-color);\n",
       "    fill: var(--disabled-fill-color);\n",
       "    box-shadow: none;\n",
       "  }\n",
       "\n",
       "  .colab-df-spinner {\n",
       "    border: 2px solid var(--fill-color);\n",
       "    border-color: transparent;\n",
       "    border-bottom-color: var(--fill-color);\n",
       "    animation:\n",
       "      spin 1s steps(1) infinite;\n",
       "  }\n",
       "\n",
       "  @keyframes spin {\n",
       "    0% {\n",
       "      border-color: transparent;\n",
       "      border-bottom-color: var(--fill-color);\n",
       "      border-left-color: var(--fill-color);\n",
       "    }\n",
       "    20% {\n",
       "      border-color: transparent;\n",
       "      border-left-color: var(--fill-color);\n",
       "      border-top-color: var(--fill-color);\n",
       "    }\n",
       "    30% {\n",
       "      border-color: transparent;\n",
       "      border-left-color: var(--fill-color);\n",
       "      border-top-color: var(--fill-color);\n",
       "      border-right-color: var(--fill-color);\n",
       "    }\n",
       "    40% {\n",
       "      border-color: transparent;\n",
       "      border-right-color: var(--fill-color);\n",
       "      border-top-color: var(--fill-color);\n",
       "    }\n",
       "    60% {\n",
       "      border-color: transparent;\n",
       "      border-right-color: var(--fill-color);\n",
       "    }\n",
       "    80% {\n",
       "      border-color: transparent;\n",
       "      border-right-color: var(--fill-color);\n",
       "      border-bottom-color: var(--fill-color);\n",
       "    }\n",
       "    90% {\n",
       "      border-color: transparent;\n",
       "      border-bottom-color: var(--fill-color);\n",
       "    }\n",
       "  }\n",
       "</style>\n",
       "\n",
       "  <script>\n",
       "    async function quickchart(key) {\n",
       "      const quickchartButtonEl =\n",
       "        document.querySelector('#' + key + ' button');\n",
       "      quickchartButtonEl.disabled = true;  // To prevent multiple clicks.\n",
       "      quickchartButtonEl.classList.add('colab-df-spinner');\n",
       "      try {\n",
       "        const charts = await google.colab.kernel.invokeFunction(\n",
       "            'suggestCharts', [key], {});\n",
       "      } catch (error) {\n",
       "        console.error('Error during call to suggestCharts:', error);\n",
       "      }\n",
       "      quickchartButtonEl.classList.remove('colab-df-spinner');\n",
       "      quickchartButtonEl.classList.add('colab-df-quickchart-complete');\n",
       "    }\n",
       "    (() => {\n",
       "      let quickchartButtonEl =\n",
       "        document.querySelector('#df-3c9b7df7-2aea-432c-a78d-43a030d449f6 button');\n",
       "      quickchartButtonEl.style.display =\n",
       "        google.colab.kernel.accessAllowed ? 'block' : 'none';\n",
       "    })();\n",
       "  </script>\n",
       "</div>\n",
       "\n",
       "    </div>\n",
       "  </div>\n"
      ],
      "text/plain": [
       "            APARINDS.NS    OIL.NS  APOLLOTYRE.NS  TATACHEM.NS     NH.NS\n",
       "Date                                                                   \n",
       "2022-01-04    -0.000785 -0.009306       0.021277    -0.005524 -0.008193\n",
       "2022-01-05    -0.011448 -0.010155       0.008422     0.006710  0.028639\n",
       "2022-01-06     0.024419  0.014876       0.004396    -0.012074 -0.026312\n",
       "2022-01-07     0.008140  0.081880       0.019694     0.025494  0.016496\n",
       "2022-01-10    -0.000384  0.004438      -0.002146     0.012996  0.012751"
      ]
     },
     "execution_count": 5,
     "metadata": {},
     "output_type": "execute_result"
    }
   ],
   "source": [
    "## drop the missing values\n",
    "returns = returns.dropna()\n",
    "returns.head()   ### displays the top 5 rows of a dataframe"
   ]
  },
  {
   "cell_type": "code",
   "execution_count": 6,
   "metadata": {
    "id": "yyF5jL1I9CWi"
   },
   "outputs": [],
   "source": [
    "### Create variables to compute & store data\n",
    "portfolio_weights = []\n",
    "portfolio_returns = []\n",
    "portfolio_risks = []\n",
    "portfolio_sharpe = []"
   ]
  },
  {
   "cell_type": "code",
   "execution_count": 7,
   "metadata": {
    "colab": {
     "base_uri": "https://localhost:8080/"
    },
    "id": "ExWrNv6L-JS4",
    "outputId": "bc815460-201e-4a69-e175-e844ef0af345"
   },
   "outputs": [
    {
     "name": "stdout",
     "output_type": "stream",
     "text": [
      "        Return      Risk    Sharpe                              Weights\n",
      "0     0.456796  0.199511  1.933711   [0.156, 0.05, 0.211, 0.289, 0.293]\n",
      "1     0.606607  0.231585   2.31279  [0.307, 0.122, 0.213, 0.225, 0.134]\n",
      "2     0.418389  0.202331  1.716934  [0.088, 0.251, 0.262, 0.323, 0.076]\n",
      "3     0.580996  0.206063  2.474949   [0.223, 0.256, 0.267, 0.08, 0.173]\n",
      "4     0.360386  0.192866  1.500451  [0.048, 0.115, 0.234, 0.359, 0.244]\n",
      "...        ...       ...       ...                                  ...\n",
      "4995  0.584146  0.210468   2.43812  [0.262, 0.192, 0.119, 0.148, 0.279]\n",
      "4996  0.622286  0.215719  2.555579   [0.257, 0.315, 0.16, 0.014, 0.254]\n",
      "4997   0.55585  0.235928  2.055074  [0.299, 0.072, 0.006, 0.348, 0.275]\n",
      "4998  0.569473  0.207894  2.397727  [0.217, 0.093, 0.211, 0.004, 0.476]\n",
      "4999  0.536975  0.238353  1.954977    [0.27, 0.076, 0.203, 0.39, 0.061]\n",
      "\n",
      "[5000 rows x 4 columns]\n"
     ]
    }
   ],
   "source": [
    "### Compute the weights, returns, risks & sharpe for number of portfolio defined\n",
    "\n",
    "for portfolio in range(number_of_portfolios):\n",
    "  weights = np.random.random_sample(len(tickers))  ## generated 5 random numbers\n",
    "  weights = np.round(weights/np.sum(weights),3)   ## converts the random numbers into weights\n",
    "  portfolio_weights.append(weights)   ## add the weights to the file portfolio_weights\n",
    "  ann_return = np.sum(returns.mean()*weights)*252        ## compute the portfolio return as weighted average\n",
    "  portfolio_returns.append(ann_return)   ## add the return to the file portfolio_returns\n",
    "  covar_matrix = returns.cov()*252   ### creates covar matrix\n",
    "  ann_stdev = np.sqrt(np.dot(weights.T, np.dot(covar_matrix, weights)))   ## computes the portfolio stdev\n",
    "  portfolio_risks.append(ann_stdev)   ## add the stdev to the file portfolio_risks\n",
    "  sharpe = (ann_return - risk_free)/ann_stdev  ## computes the sharpe ratio\n",
    "  portfolio_sharpe.append(sharpe)   ## add the sharpe to the file portfolio_sharpe\n",
    "\n",
    "portfolio_returns = np.array(portfolio_returns)  ## store the data in array form\n",
    "portfolio_risks = np.array(portfolio_risks)\n",
    "portfolio_sharpe = np.array(portfolio_sharpe)\n",
    "\n",
    "portfolio_parameters = [portfolio_returns, portfolio_risks, portfolio_sharpe, portfolio_weights]\n",
    "portfolio_data = pd.DataFrame(portfolio_parameters).T\n",
    "portfolio_data.columns = ['Return', 'Risk', 'Sharpe', 'Weights']\n",
    "print(portfolio_data)"
   ]
  },
  {
   "cell_type": "code",
   "execution_count": 9,
   "metadata": {
    "colab": {
     "base_uri": "https://localhost:8080/"
    },
    "id": "8xKpgCJ4GoO-",
    "outputId": "1e939aba-3446-456c-d192-feb212535367"
   },
   "outputs": [
    {
     "name": "stdout",
     "output_type": "stream",
     "text": [
      "Highest Sharpe Portfolio:\n",
      "Return                                 0.65837\n",
      "Risk                                  0.224237\n",
      "Sharpe                                 2.61942\n",
      "Weights    [0.307, 0.234, 0.204, 0.015, 0.239]\n",
      "Name: 1178, dtype: object\n",
      "['APARINDS.NS', 'OIL.NS', 'APOLLOTYRE.NS', 'TATACHEM.NS', 'NH.NS']\n",
      "\n"
     ]
    }
   ],
   "source": [
    "## identify the max sharpe ratio portfolio\n",
    "max_sharpe = portfolio_data.iloc[portfolio_data['Sharpe'].astype(float).idxmax()]\n",
    "print('Highest Sharpe Portfolio:')\n",
    "print(max_sharpe)\n",
    "print(tickers)\n",
    "print(\"\")"
   ]
  },
  {
   "cell_type": "code",
   "execution_count": 12,
   "metadata": {
    "id": "1ZoQx3W5KEDk"
   },
   "outputs": [],
   "source": [
    "portfolio_data.to_csv(\"Portfolio.csv\")"
   ]
  }
 ],
 "metadata": {
  "colab": {
   "provenance": []
  },
  "kernelspec": {
   "display_name": "Python 3 (ipykernel)",
   "language": "python",
   "name": "python3"
  },
  "language_info": {
   "codemirror_mode": {
    "name": "ipython",
    "version": 3
   },
   "file_extension": ".py",
   "mimetype": "text/x-python",
   "name": "python",
   "nbconvert_exporter": "python",
   "pygments_lexer": "ipython3",
   "version": "3.11.5"
  }
 },
 "nbformat": 4,
 "nbformat_minor": 1
}
