{
 "cells": [
  {
   "cell_type": "code",
   "execution_count": 1,
   "metadata": {
    "colab": {
     "base_uri": "https://localhost:8080/"
    },
    "id": "6V1p-ha3yYe1",
    "outputId": "31f88f04-7d94-4ce8-e302-64bd45e21e17"
   },
   "outputs": [],
   "source": [
    "### Activate the packages required\n",
    "## in case any module is not installed, run this line --> pip install pandas\n",
    "import pandas as pd   ## pandas is used for working around data\n",
    "import numpy as np  ## numpy is used for numerical/statistical functions\n",
    "import matplotlib.pyplot as plt  ## matplotlib is used for creating charts/graphics\n",
    "import pandas_datareader.data as web  ## used for extracting data from web sources\n",
    "import yfinance as yf    ## is used for extracting data from yahoo finance\n",
    "yf.pdr_override()   ## bugfix for conflict between pandas_datareader & yfinance\n",
    "from datetime import datetime   ## is used to convert the date & time format of the data"
   ]
  },
  {
   "cell_type": "code",
   "execution_count": 2,
   "metadata": {
    "id": "Knr3qXQH05ge"
   },
   "outputs": [],
   "source": [
    "### User Inputs\n",
    "startdate = datetime(2022, 1, 1)   ## from what date the price data to be downloaded\n",
    "enddate = datetime(2023, 12, 31)   ## till what date the price data to be downloaded\n",
    "tickers = ['APARINDS.NS', 'OIL.NS', 'APOLLOTYRE.NS', 'TATACHEM.NS', 'NH.NS']   ## ticker symbols of the stocks using which the portfolio needs to be built\n",
    "number_of_portfolios = 5000  ## I want create x number of randomly weighted portfolios from which the best need to be chosen\n",
    "risk_free = 0.071  ## risk-free rate"
   ]
  },
  {
   "cell_type": "code",
   "execution_count": 3,
   "metadata": {
    "id": "eAk-yVLP2u6i"
   },
   "outputs": [],
   "source": [
    "### Create an empty table spcace for storing the data\n",
    "returns = pd.DataFrame()"
   ]
  },
  {
   "cell_type": "code",
   "execution_count": 4,
   "metadata": {
    "colab": {
     "base_uri": "https://localhost:8080/"
    },
    "id": "nyEh6u0R3xVn",
    "outputId": "0774c479-dffc-4679-a263-2f0b732b143f"
   },
   "outputs": [
    {
     "name": "stderr",
     "output_type": "stream",
     "text": [
      "[*********************100%%**********************]  1 of 1 completed\n",
      "[*********************100%%**********************]  1 of 1 completed\n",
      "[*********************100%%**********************]  1 of 1 completed\n",
      "[*********************100%%**********************]  1 of 1 completed\n",
      "[*********************100%%**********************]  1 of 1 completed\n"
     ]
    }
   ],
   "source": [
    "### Create a lopp function that downloads each stock's price data & compute returns\n",
    "\n",
    "for ticker in tickers:\n",
    "  data = web.get_data_yahoo(ticker, start = startdate, end = enddate)   ## download from yfinance\n",
    "  data = pd.DataFrame(data)   ## store it in a table form\n",
    "  data[ticker] = data['Adj Close'].pct_change()  ## computing the returns for each day\n",
    "  if returns.empty:\n",
    "    returns = data[[ticker]]\n",
    "  else:\n",
    "    returns = returns.join(data[[ticker]], how = 'outer')   ## adds a new column next to existing and store the return data"
   ]
  },
  {
   "cell_type": "code",
   "execution_count": 5,
   "metadata": {
    "colab": {
     "base_uri": "https://localhost:8080/",
     "height": 237
    },
    "id": "aVLkiVZn8StJ",
    "outputId": "189c92ab-1aa1-4ff0-a43f-e8abdfddafdd"
   },
   "outputs": [
    {
     "data": {
      "text/html": [
       "<div>\n",
       "<style scoped>\n",
       "    .dataframe tbody tr th:only-of-type {\n",
       "        vertical-align: middle;\n",
       "    }\n",
       "\n",
       "    .dataframe tbody tr th {\n",
       "        vertical-align: top;\n",
       "    }\n",
       "\n",
       "    .dataframe thead th {\n",
       "        text-align: right;\n",
       "    }\n",
       "</style>\n",
       "<table border=\"1\" class=\"dataframe\">\n",
       "  <thead>\n",
       "    <tr style=\"text-align: right;\">\n",
       "      <th></th>\n",
       "      <th>APARINDS.NS</th>\n",
       "      <th>OIL.NS</th>\n",
       "      <th>APOLLOTYRE.NS</th>\n",
       "      <th>TATACHEM.NS</th>\n",
       "      <th>NH.NS</th>\n",
       "    </tr>\n",
       "    <tr>\n",
       "      <th>Date</th>\n",
       "      <th></th>\n",
       "      <th></th>\n",
       "      <th></th>\n",
       "      <th></th>\n",
       "      <th></th>\n",
       "    </tr>\n",
       "  </thead>\n",
       "  <tbody>\n",
       "    <tr>\n",
       "      <th>2022-01-04</th>\n",
       "      <td>-0.000785</td>\n",
       "      <td>-0.009306</td>\n",
       "      <td>0.021277</td>\n",
       "      <td>-0.005524</td>\n",
       "      <td>-0.008193</td>\n",
       "    </tr>\n",
       "    <tr>\n",
       "      <th>2022-01-05</th>\n",
       "      <td>-0.011448</td>\n",
       "      <td>-0.010155</td>\n",
       "      <td>0.008422</td>\n",
       "      <td>0.006710</td>\n",
       "      <td>0.028639</td>\n",
       "    </tr>\n",
       "    <tr>\n",
       "      <th>2022-01-06</th>\n",
       "      <td>0.024419</td>\n",
       "      <td>0.014876</td>\n",
       "      <td>0.004396</td>\n",
       "      <td>-0.012074</td>\n",
       "      <td>-0.026312</td>\n",
       "    </tr>\n",
       "    <tr>\n",
       "      <th>2022-01-07</th>\n",
       "      <td>0.008140</td>\n",
       "      <td>0.081880</td>\n",
       "      <td>0.019694</td>\n",
       "      <td>0.025494</td>\n",
       "      <td>0.016496</td>\n",
       "    </tr>\n",
       "    <tr>\n",
       "      <th>2022-01-10</th>\n",
       "      <td>-0.000384</td>\n",
       "      <td>0.004438</td>\n",
       "      <td>-0.002146</td>\n",
       "      <td>0.012996</td>\n",
       "      <td>0.012751</td>\n",
       "    </tr>\n",
       "  </tbody>\n",
       "</table>\n",
       "</div>"
      ],
      "text/plain": [
       "            APARINDS.NS    OIL.NS  APOLLOTYRE.NS  TATACHEM.NS     NH.NS\n",
       "Date                                                                   \n",
       "2022-01-04    -0.000785 -0.009306       0.021277    -0.005524 -0.008193\n",
       "2022-01-05    -0.011448 -0.010155       0.008422     0.006710  0.028639\n",
       "2022-01-06     0.024419  0.014876       0.004396    -0.012074 -0.026312\n",
       "2022-01-07     0.008140  0.081880       0.019694     0.025494  0.016496\n",
       "2022-01-10    -0.000384  0.004438      -0.002146     0.012996  0.012751"
      ]
     },
     "execution_count": 5,
     "metadata": {},
     "output_type": "execute_result"
    }
   ],
   "source": [
    "## drop the missing values\n",
    "returns = returns.dropna()\n",
    "returns.head()   ### displays the top 5 rows of a dataframe"
   ]
  },
  {
   "cell_type": "code",
   "execution_count": 6,
   "metadata": {
    "id": "yyF5jL1I9CWi"
   },
   "outputs": [],
   "source": [
    "### Create variables to compute & store data\n",
    "portfolio_weights = []\n",
    "portfolio_returns = []\n",
    "portfolio_risks = []\n",
    "portfolio_sharpe = []"
   ]
  },
  {
   "cell_type": "code",
   "execution_count": 7,
   "metadata": {
    "colab": {
     "base_uri": "https://localhost:8080/"
    },
    "id": "ExWrNv6L-JS4",
    "outputId": "bc815460-201e-4a69-e175-e844ef0af345"
   },
   "outputs": [
    {
     "name": "stdout",
     "output_type": "stream",
     "text": [
      "        Return      Risk    Sharpe                              Weights\n",
      "0     0.409519  0.191497  1.767749  [0.016, 0.155, 0.393, 0.046, 0.391]\n",
      "1     0.362416  0.185236  1.573216  [0.029, 0.152, 0.225, 0.283, 0.311]\n",
      "2     0.681145  0.252937  2.412243  [0.388, 0.104, 0.066, 0.134, 0.309]\n",
      "3     0.578291  0.207526  2.444466   [0.25, 0.211, 0.135, 0.142, 0.262]\n",
      "4      0.44887  0.182148  2.074526  [0.085, 0.233, 0.213, 0.125, 0.344]\n",
      "...        ...       ...       ...                                  ...\n",
      "4995  0.377754  0.188197  1.629962  [0.025, 0.098, 0.232, 0.158, 0.487]\n",
      "4996  0.339633   0.20789  1.292188   [0.019, 0.12, 0.354, 0.384, 0.123]\n",
      "4997  0.450496  0.203971  1.860539  [0.122, 0.329, 0.106, 0.296, 0.147]\n",
      "4998  0.659428  0.256282  2.296017  [0.368, 0.206, 0.155, 0.246, 0.025]\n",
      "4999  0.538159   0.21938   2.12945   [0.219, 0.198, 0.292, 0.261, 0.03]\n",
      "\n",
      "[5000 rows x 4 columns]\n"
     ]
    }
   ],
   "source": [
    "### Compute the weights, returns, risks & sharpe for number of portfolio defined\n",
    "\n",
    "for portfolio in range(number_of_portfolios):\n",
    "  weights = np.random.random_sample(len(tickers))  ## generated 5 random numbers\n",
    "  weights = np.round(weights/np.sum(weights),3)   ## converts the random numbers into weights\n",
    "  portfolio_weights.append(weights)   ## add the weights to the file portfolio_weights\n",
    "  ann_return = np.sum(returns.mean()*weights)*252        ## compute the portfolio return as weighted average\n",
    "  portfolio_returns.append(ann_return)   ## add the return to the file portfolio_returns\n",
    "  covar_matrix = returns.cov()*252   ### creates covar matrix\n",
    "  ann_stdev = np.sqrt(np.dot(weights.T, np.dot(covar_matrix, weights)))   ## computes the portfolio stdev\n",
    "  portfolio_risks.append(ann_stdev)   ## add the stdev to the file portfolio_risks\n",
    "  sharpe = (ann_return - risk_free)/ann_stdev  ## computes the sharpe ratio\n",
    "  portfolio_sharpe.append(sharpe)   ## add the sharpe to the file portfolio_sharpe\n",
    "\n",
    "portfolio_returns = np.array(portfolio_returns)  ## store the data in array form\n",
    "portfolio_risks = np.array(portfolio_risks)\n",
    "portfolio_sharpe = np.array(portfolio_sharpe)\n",
    "\n",
    "portfolio_parameters = [portfolio_returns, portfolio_risks, portfolio_sharpe, portfolio_weights]\n",
    "portfolio_data = pd.DataFrame(portfolio_parameters).T\n",
    "portfolio_data.columns = ['Return', 'Risk', 'Sharpe', 'Weights']\n",
    "print(portfolio_data)"
   ]
  },
  {
   "cell_type": "code",
   "execution_count": 8,
   "metadata": {
    "colab": {
     "base_uri": "https://localhost:8080/"
    },
    "id": "8xKpgCJ4GoO-",
    "outputId": "1e939aba-3446-456c-d192-feb212535367"
   },
   "outputs": [
    {
     "name": "stdout",
     "output_type": "stream",
     "text": [
      "Highest Sharpe Portfolio:\n",
      "Return                                 0.65376\n",
      "Risk                                  0.222592\n",
      "Sharpe                                2.618064\n",
      "Weights    [0.302, 0.235, 0.192, 0.015, 0.256]\n",
      "Name: 3640, dtype: object\n",
      "['APARINDS.NS', 'OIL.NS', 'APOLLOTYRE.NS', 'TATACHEM.NS', 'NH.NS']\n",
      "\n"
     ]
    }
   ],
   "source": [
    "## identify the max sharpe ratio portfolio\n",
    "max_sharpe = portfolio_data.iloc[portfolio_data['Sharpe'].astype(float).idxmax()]\n",
    "print('Highest Sharpe Portfolio:')\n",
    "print(max_sharpe)\n",
    "print(tickers)\n",
    "print(\"\")"
   ]
  },
  {
   "cell_type": "code",
   "execution_count": 9,
   "metadata": {
    "id": "1ZoQx3W5KEDk"
   },
   "outputs": [],
   "source": [
    "portfolio_data.to_csv(\"Portfolio.csv\")"
   ]
  },
  {
   "cell_type": "code",
   "execution_count": null,
   "metadata": {},
   "outputs": [],
   "source": []
  }
 ],
 "metadata": {
  "colab": {
   "provenance": []
  },
  "kernelspec": {
   "display_name": "Python 3 (ipykernel)",
   "language": "python",
   "name": "python3"
  },
  "language_info": {
   "codemirror_mode": {
    "name": "ipython",
    "version": 3
   },
   "file_extension": ".py",
   "mimetype": "text/x-python",
   "name": "python",
   "nbconvert_exporter": "python",
   "pygments_lexer": "ipython3",
   "version": "3.11.5"
  }
 },
 "nbformat": 4,
 "nbformat_minor": 1
}
